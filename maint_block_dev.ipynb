{
 "cells": [
  {
   "cell_type": "code",
   "execution_count": 1,
   "metadata": {},
   "outputs": [
    {
     "ename": "ImportError",
     "evalue": "No module named 'numpy.core._multiarray_umath'",
     "output_type": "error",
     "traceback": [
      "\u001b[1;31m---------------------------------------------------------------------------\u001b[0m",
      "\u001b[1;31mImportError\u001b[0m                               Traceback (most recent call last)",
      "\u001b[1;32m<ipython-input-1-60afb7f93ace>\u001b[0m in \u001b[0;36m<module>\u001b[1;34m\u001b[0m\n\u001b[0;32m     15\u001b[0m \u001b[1;33m\u001b[0m\u001b[0m\n\u001b[0;32m     16\u001b[0m \u001b[1;32mimport\u001b[0m \u001b[0mnetworkx\u001b[0m \u001b[1;32mas\u001b[0m \u001b[0mnx\u001b[0m\u001b[1;33m\u001b[0m\u001b[0m\n\u001b[1;32m---> 17\u001b[1;33m \u001b[1;32mimport\u001b[0m \u001b[0mnumpy\u001b[0m \u001b[1;32mas\u001b[0m \u001b[0mnp\u001b[0m\u001b[1;33m\u001b[0m\u001b[0m\n\u001b[0m\u001b[0;32m     18\u001b[0m \u001b[1;32mimport\u001b[0m \u001b[0mpandas\u001b[0m \u001b[1;32mas\u001b[0m \u001b[0mpd\u001b[0m\u001b[1;33m\u001b[0m\u001b[0m\n\u001b[0;32m     19\u001b[0m \u001b[1;32mfrom\u001b[0m \u001b[0msklearn\u001b[0m\u001b[1;33m.\u001b[0m\u001b[0mfeature_extraction\u001b[0m\u001b[1;33m.\u001b[0m\u001b[0mtext\u001b[0m \u001b[1;32mimport\u001b[0m \u001b[0mTfidfVectorizer\u001b[0m\u001b[1;33m\u001b[0m\u001b[0m\n",
      "\u001b[1;32mc:\\users\\alex georgiou\\anaconda3\\lib\\site-packages\\numpy\\__init__.py\u001b[0m in \u001b[0;36m<module>\u001b[1;34m\u001b[0m\n\u001b[0;32m    140\u001b[0m     \u001b[1;32mfrom\u001b[0m \u001b[1;33m.\u001b[0m \u001b[1;32mimport\u001b[0m \u001b[0m_distributor_init\u001b[0m\u001b[1;33m\u001b[0m\u001b[0m\n\u001b[0;32m    141\u001b[0m \u001b[1;33m\u001b[0m\u001b[0m\n\u001b[1;32m--> 142\u001b[1;33m     \u001b[1;32mfrom\u001b[0m \u001b[1;33m.\u001b[0m \u001b[1;32mimport\u001b[0m \u001b[0mcore\u001b[0m\u001b[1;33m\u001b[0m\u001b[0m\n\u001b[0m\u001b[0;32m    143\u001b[0m     \u001b[1;32mfrom\u001b[0m \u001b[1;33m.\u001b[0m\u001b[0mcore\u001b[0m \u001b[1;32mimport\u001b[0m \u001b[1;33m*\u001b[0m\u001b[1;33m\u001b[0m\u001b[0m\n\u001b[0;32m    144\u001b[0m     \u001b[1;32mfrom\u001b[0m \u001b[1;33m.\u001b[0m \u001b[1;32mimport\u001b[0m \u001b[0mcompat\u001b[0m\u001b[1;33m\u001b[0m\u001b[0m\n",
      "\u001b[1;32mc:\\users\\alex georgiou\\anaconda3\\lib\\site-packages\\numpy\\core\\__init__.py\u001b[0m in \u001b[0;36m<module>\u001b[1;34m\u001b[0m\n\u001b[0;32m     34\u001b[0m \u001b[1;32mfrom\u001b[0m \u001b[1;33m.\u001b[0m \u001b[1;32mimport\u001b[0m \u001b[0mumath\u001b[0m\u001b[1;33m\u001b[0m\u001b[0m\n\u001b[0;32m     35\u001b[0m \u001b[1;32mfrom\u001b[0m \u001b[1;33m.\u001b[0m \u001b[1;32mimport\u001b[0m \u001b[0m_internal\u001b[0m  \u001b[1;31m# for freeze programs\u001b[0m\u001b[1;33m\u001b[0m\u001b[0m\n\u001b[1;32m---> 36\u001b[1;33m \u001b[1;32mfrom\u001b[0m \u001b[1;33m.\u001b[0m \u001b[1;32mimport\u001b[0m \u001b[0mnumerictypes\u001b[0m \u001b[1;32mas\u001b[0m \u001b[0mnt\u001b[0m\u001b[1;33m\u001b[0m\u001b[0m\n\u001b[0m\u001b[0;32m     37\u001b[0m \u001b[0mmultiarray\u001b[0m\u001b[1;33m.\u001b[0m\u001b[0mset_typeDict\u001b[0m\u001b[1;33m(\u001b[0m\u001b[0mnt\u001b[0m\u001b[1;33m.\u001b[0m\u001b[0msctypeDict\u001b[0m\u001b[1;33m)\u001b[0m\u001b[1;33m\u001b[0m\u001b[0m\n\u001b[0;32m     38\u001b[0m \u001b[1;32mfrom\u001b[0m \u001b[1;33m.\u001b[0m \u001b[1;32mimport\u001b[0m \u001b[0mnumeric\u001b[0m\u001b[1;33m\u001b[0m\u001b[0m\n",
      "\u001b[1;32mc:\\users\\alex georgiou\\anaconda3\\lib\\site-packages\\numpy\\core\\numerictypes.py\u001b[0m in \u001b[0;36m<module>\u001b[1;34m\u001b[0m\n\u001b[0;32m     93\u001b[0m         \u001b[0mbusdaycalendar\u001b[0m\u001b[1;33m\u001b[0m\u001b[0m\n\u001b[0;32m     94\u001b[0m         )\n\u001b[1;32m---> 95\u001b[1;33m \u001b[1;32mfrom\u001b[0m \u001b[0mnumpy\u001b[0m\u001b[1;33m.\u001b[0m\u001b[0mcore\u001b[0m\u001b[1;33m.\u001b[0m\u001b[0moverrides\u001b[0m \u001b[1;32mimport\u001b[0m \u001b[0mset_module\u001b[0m\u001b[1;33m\u001b[0m\u001b[0m\n\u001b[0m\u001b[0;32m     96\u001b[0m \u001b[1;33m\u001b[0m\u001b[0m\n\u001b[0;32m     97\u001b[0m \u001b[1;31m# we add more at the bottom\u001b[0m\u001b[1;33m\u001b[0m\u001b[1;33m\u001b[0m\u001b[0m\n",
      "\u001b[1;32mc:\\users\\alex georgiou\\anaconda3\\lib\\site-packages\\numpy\\core\\overrides.py\u001b[0m in \u001b[0;36m<module>\u001b[1;34m\u001b[0m\n\u001b[0;32m      5\u001b[0m \u001b[1;32mimport\u001b[0m \u001b[0mtextwrap\u001b[0m\u001b[1;33m\u001b[0m\u001b[0m\n\u001b[0;32m      6\u001b[0m \u001b[1;33m\u001b[0m\u001b[0m\n\u001b[1;32m----> 7\u001b[1;33m from numpy.core._multiarray_umath import (\n\u001b[0m\u001b[0;32m      8\u001b[0m     add_docstring, implement_array_function, _get_implementing_args)\n\u001b[0;32m      9\u001b[0m \u001b[1;32mfrom\u001b[0m \u001b[0mnumpy\u001b[0m\u001b[1;33m.\u001b[0m\u001b[0mcompat\u001b[0m\u001b[1;33m.\u001b[0m\u001b[0m_inspect\u001b[0m \u001b[1;32mimport\u001b[0m \u001b[0mgetargspec\u001b[0m\u001b[1;33m\u001b[0m\u001b[0m\n",
      "\u001b[1;31mImportError\u001b[0m: No module named 'numpy.core._multiarray_umath'"
     ]
    }
   ],
   "source": [
    "\"\"\"\n",
    "Use content based to weight the ratings, the cluster would work here to impute\n",
    "\n",
    " use a weighting system controlled by alpha parameter\n",
    "\n",
    " combined_similarity = alpha*content_sim+(1-alpha)*collb_sim\n",
    " alpha = 1 then content_only\n",
    " alpha = 0 then collab only\n",
    " alpha can be tuned\n",
    " http://facweb.cs.depaul.edu/mobasher/research/papers/ewmf04-web/node9.html\n",
    "\"\"\"\n",
    "\n",
    "import os\n",
    "from warnings import warn\n",
    "\n",
    "import networkx as nx\n",
    "import numpy as np\n",
    "import pandas as pd\n",
    "from sklearn.feature_extraction.text import TfidfVectorizer\n",
    "from sklearn.metrics.pairwise import cosine_similarity\n",
    "    \n",
    "from recipe_similarities.utils.clean_data import prepare_data\n",
    "from recipe_similarities.config.defaults import raw_data_files\n",
    "\n",
    "# BASE_DIR = os.path.dirname(os.path.realpath(__file__))\n",
    "BASE_DIR = \"C:/Users/Alex Georgiou/similarity_matrix/recipe_similarities\"\n",
    "\n",
    "\n",
    "class SimilarityFactory:\n",
    "    def __init__(self,\n",
    "                 recipes_info_file_path=None,\n",
    "                 similarity_score_file_path=None,\n",
    "                 recipe_ids=None):\n",
    "\n",
    "        self.recipes_info_file_path = recipes_info_file_path\n",
    "        self.similarity_score_file_path = similarity_score_file_path\n",
    "        self.recipe_ids = recipe_ids\n",
    "        self.recipes_df = None\n",
    "        self.sim_scores_df = None\n",
    "\n",
    "    def load_data(self):\n",
    "        if self.recipes_info_file_path is None or self.similarity_score_file_path is None:\n",
    "            warn(\"You have not provided a recipes.csv AND a similarity_scores.csv. Default raw data will be used. \")\n",
    "            raw_data = raw_data_files()\n",
    "\n",
    "            self.recipes_info_file_path = os.path.join(BASE_DIR,\n",
    "                                                       'data',\n",
    "                                                       'raw_data',\n",
    "                                                       raw_data['recipes_info'])\n",
    "            self.similarity_score_file_path = os.path.join(BASE_DIR,\n",
    "                                                           'data',\n",
    "                                                           'raw_data',\n",
    "                                                           raw_data['similarity_scores'])\n",
    "\n",
    "            self.recipes_df, self.sim_scores_df = prepare_data(self.recipes_info_file_path,\n",
    "                                                               self.similarity_score_file_path)\n",
    "\n",
    "    def get_data(self):\n",
    "        return self.recipes_df\n",
    "    \n",
    "    @staticmethod\n",
    "    def _prep_time_class(field):\n",
    "        \"\"\"\n",
    "        This function converts preparation time to a class\n",
    "        nb highly subjective, should ideally be validated by understanding customer perception\n",
    "        \"\"\"\n",
    "\n",
    "        if field <= 20:\n",
    "            return 'fast'\n",
    "        elif 20 < field <= 40:\n",
    "            return 'medium'\n",
    "        elif field > 40:\n",
    "            return 'slow'\n",
    "\n",
    "\n",
    "    def _recipes_prepare_data(self):\n",
    "\n",
    "        df = self.recipes_df.copy()\n",
    "\n",
    "        df.index = df.recipe_id\n",
    "        del df['recipe_id']\n",
    "        del df['country_secondary']\n",
    "\n",
    "        # treat missing content as information\n",
    "        df.fillna('missing', inplace=True)\n",
    "        df['family_friendly'].replace(to_replace={'no': 'family unfriendly',\n",
    "                                                  'yes': 'family friendly'},\n",
    "                                      inplace=True)\n",
    "\n",
    "        df['dish_category'].replace(to_replace={'protein&veg': 'protein & veg'},\n",
    "                                    inplace=True)\n",
    "        df['prep_time'] = df['prep_time'].apply(self._prep_time_class)\n",
    "\n",
    "        return df\n",
    "\n",
    "    def recipes_jaccard_similarities(self):\n",
    "        # utilise numpys matrix operations for fast computation\n",
    "        df = self._recipes_prepare_data()\n",
    "\n",
    "        a = df.values.copy()\n",
    "        b = df.values.copy()\n",
    "\n",
    "        all_recipes_by_n_recipes = np.repeat(a[np.newaxis, :, :],\n",
    "                                             a.shape[0],\n",
    "                                             axis=0)\n",
    "\n",
    "        all_recipes = b.reshape(b.shape[0],\n",
    "                                1,\n",
    "                                b.shape[1])\n",
    "\n",
    "        intersect = np.sum(all_recipes_by_n_recipes == all_recipes, axis=2)\n",
    "        union = np.sum(all_recipes_by_n_recipes != all_recipes, axis=2) * 2 + intersect\n",
    "        jaccard_sim = intersect / union\n",
    "\n",
    "        jaccard_sim_df = pd.DataFrame(jaccard_sim, index=df.index, columns=df.index)\n",
    "\n",
    "        return jaccard_sim_df\n",
    "    \n",
    "    @staticmethod\n",
    "    def _concat_to_pipe_delim_str(fields):\n",
    "        all_col_values = fields.tolist()\n",
    "\n",
    "        return \"||\".join(all_col_values)\n",
    "            \n",
    "    @staticmethod\n",
    "    def _custom_tokeniser(doc):\n",
    "        return doc.split(\"||\")\n",
    "\n",
    "    def recipe_cosine_similarities(self):\n",
    "        df = self._recipes_prepare_data()\n",
    "        df['delim_str'] = df.apply(self._concat_to_pipe_delim_str, axis=1)\n",
    "        tf_idf = TfidfVectorizer(analyzer='word',\n",
    "                                 min_df=0,\n",
    "                                 tokenizer=self._custom_tokeniser\n",
    "                                 )\n",
    "        tfidf_matrix = tf_idf.fit_transform(df['delim_str'])\n",
    "        cos_sim = cosine_similarity(tfidf_matrix, tfidf_matrix)\n",
    "        cos_sim_df = pd.DataFrame(cos_sim, index=df.index, columns=df.index)\n",
    "\n",
    "        return cos_sim_df\n",
    "\n",
    "    def scored_cosine_similarities(self):\n",
    "        df = self.sim_scores_df\n",
    "        edges = df.groupby(['recipe_a', 'recipe_b'])\\\n",
    "                  .agg('mean')\\\n",
    "                  .reset_index()[['recipe_a', 'recipe_b', 'score']]\n",
    "        graph = nx.from_pandas_dataframe(edges, 'recipe_a', 'recipe_b', 'score')\n",
    "        adj_matrix = nx.to_numpy_matrix(graph, weight='score')\n",
    "        nodes = [int(n) for n in graph.nodes()]\n",
    "        adj_matrix_df = pd.DataFrame(adj_matrix, index=nodes, columns=nodes)\n",
    "        cos_sim = cosine_similarity(adj_matrix_df, adj_matrix_df)\n",
    "        cos_sim_df = pd.DataFrame(cos_sim, index=adj_matrix_df.index, columns=adj_matrix_df.index)\n",
    "        return cos_sim_df\n",
    "\n",
    "    def _join_weights_to_recipes(self):\n",
    "        pass\n",
    "\n",
    "    def hybrid_weighted_similarity(self):\n",
    "        pass"
   ]
  },
  {
   "cell_type": "code",
   "execution_count": 2,
   "metadata": {},
   "outputs": [
    {
     "data": {
      "text/plain": [
       "'c:\\\\users\\\\alex georgiou\\\\anaconda3\\\\python.exe'"
      ]
     },
     "execution_count": 2,
     "metadata": {},
     "output_type": "execute_result"
    }
   ],
   "source": [
    "import sys\n",
    "sys.executable"
   ]
  },
  {
   "cell_type": "code",
   "execution_count": null,
   "metadata": {},
   "outputs": [],
   "source": []
  },
  {
   "cell_type": "code",
   "execution_count": null,
   "metadata": {},
   "outputs": [],
   "source": [
    "sf = SimilarityFactory()\n",
    "sf.load_data()"
   ]
  },
  {
   "cell_type": "code",
   "execution_count": 3,
   "metadata": {},
   "outputs": [],
   "source": [
    "# df = sf.get_data()\n",
    "# df['prep_time'].apply(_prep_time_class)"
   ]
  },
  {
   "cell_type": "code",
   "execution_count": 161,
   "metadata": {},
   "outputs": [
    {
     "name": "stdout",
     "output_type": "stream",
     "text": [
      "(258, 258) (258, 258) (130, 130)\n"
     ]
    }
   ],
   "source": [
    "cb_jaccard = sf.recipes_jaccard_similarities()\n",
    "cb_cos = sf.recipe_cosine_similarities()\n",
    "cbf_cos = sf.scored_cosine_similarities()\n",
    "print(cb_jaccard.shape, cb_cos.shape, cbf_cos.shape)"
   ]
  },
  {
   "cell_type": "code",
   "execution_count": 7,
   "metadata": {},
   "outputs": [
    {
     "name": "stdout",
     "output_type": "stream",
     "text": [
      "Collecting numpy\n",
      "  Using cached https://files.pythonhosted.org/packages/ed/09/ff8f529a5548ff788765f66a81ef751130f26f8c7d517e94d3dbf3ba1ed5/numpy-1.18.5-cp35-cp35m-win_amd64.whl\n",
      "Installing collected packages: numpy\n"
     ]
    },
    {
     "name": "stderr",
     "output_type": "stream",
     "text": [
      "Could not install packages due to an EnvironmentError: [WinError 5] Access is denied: 'c:\\\\users\\\\alex georgiou\\\\anaconda3\\\\Lib\\\\site-packages\\\\numpy\\\\.libs\\\\libopenblas.PYQHXLVVQ7VESDPUVUADXEVJOBGHJPAY.gfortran-win_amd64.dll'\n",
      "Consider using the `--user` option or check the permissions.\n",
      "\n",
      "You are using pip version 18.1, however version 20.2.2 is available.\n",
      "You should consider upgrading via the 'python -m pip install --upgrade pip' command.\n"
     ]
    }
   ],
   "source": [
    "!pip install  numpy --force-reinstall --ignore-installed"
   ]
  },
  {
   "cell_type": "code",
   "execution_count": 7,
   "metadata": {},
   "outputs": [
    {
     "ename": "ImportError",
     "evalue": "Missing required dependencies ['numpy']",
     "output_type": "error",
     "traceback": [
      "\u001b[1;31m---------------------------------------------------------------------------\u001b[0m",
      "\u001b[1;31mImportError\u001b[0m                               Traceback (most recent call last)",
      "\u001b[1;32m<ipython-input-7-5cd9df4264bd>\u001b[0m in \u001b[0;36m<module>\u001b[1;34m\u001b[0m\n\u001b[1;32m----> 1\u001b[1;33m \u001b[1;32mimport\u001b[0m \u001b[0mpandas\u001b[0m \u001b[1;32mas\u001b[0m \u001b[0mpd\u001b[0m\u001b[1;33m\u001b[0m\u001b[0m\n\u001b[0m\u001b[0;32m      2\u001b[0m \u001b[1;33m\u001b[0m\u001b[0m\n\u001b[0;32m      3\u001b[0m \u001b[0mb_cos1d\u001b[0m \u001b[1;33m=\u001b[0m \u001b[0mcb_cos\u001b[0m\u001b[1;33m.\u001b[0m\u001b[0mvalues\u001b[0m\u001b[1;33m.\u001b[0m\u001b[0mreshape\u001b[0m\u001b[1;33m(\u001b[0m\u001b[0mcb_cos\u001b[0m\u001b[1;33m.\u001b[0m\u001b[0mshape\u001b[0m\u001b[1;33m[\u001b[0m\u001b[1;36m0\u001b[0m\u001b[1;33m]\u001b[0m\u001b[1;33m*\u001b[0m\u001b[0mcb_cos\u001b[0m\u001b[1;33m.\u001b[0m\u001b[0mshape\u001b[0m\u001b[1;33m[\u001b[0m\u001b[1;36m1\u001b[0m\u001b[1;33m]\u001b[0m\u001b[1;33m)\u001b[0m\u001b[1;33m\u001b[0m\u001b[0m\n\u001b[0;32m      4\u001b[0m \u001b[0mcb_jacc1d\u001b[0m \u001b[1;33m=\u001b[0m \u001b[0mcb_cos\u001b[0m\u001b[1;33m.\u001b[0m\u001b[0mvalues\u001b[0m\u001b[1;33m.\u001b[0m\u001b[0mreshape\u001b[0m\u001b[1;33m(\u001b[0m\u001b[0mcb_cos\u001b[0m\u001b[1;33m.\u001b[0m\u001b[0mshape\u001b[0m\u001b[1;33m[\u001b[0m\u001b[1;36m0\u001b[0m\u001b[1;33m]\u001b[0m\u001b[1;33m*\u001b[0m\u001b[0mcb_cos\u001b[0m\u001b[1;33m.\u001b[0m\u001b[0mshape\u001b[0m\u001b[1;33m[\u001b[0m\u001b[1;36m1\u001b[0m\u001b[1;33m]\u001b[0m\u001b[1;33m)\u001b[0m\u001b[1;33m\u001b[0m\u001b[0m\n\u001b[0;32m      5\u001b[0m \u001b[0mcbf_cos1d\u001b[0m \u001b[1;33m=\u001b[0m \u001b[0mcb_cos\u001b[0m\u001b[1;33m.\u001b[0m\u001b[0mvalues\u001b[0m\u001b[1;33m.\u001b[0m\u001b[0mreshape\u001b[0m\u001b[1;33m(\u001b[0m\u001b[0mcb_cos\u001b[0m\u001b[1;33m.\u001b[0m\u001b[0mshape\u001b[0m\u001b[1;33m[\u001b[0m\u001b[1;36m0\u001b[0m\u001b[1;33m]\u001b[0m\u001b[1;33m*\u001b[0m\u001b[0mcb_cos\u001b[0m\u001b[1;33m.\u001b[0m\u001b[0mshape\u001b[0m\u001b[1;33m[\u001b[0m\u001b[1;36m1\u001b[0m\u001b[1;33m]\u001b[0m\u001b[1;33m)\u001b[0m\u001b[1;33m\u001b[0m\u001b[0m\n",
      "\u001b[1;32mc:\\users\\alex georgiou\\anaconda3\\lib\\site-packages\\pandas\\__init__.py\u001b[0m in \u001b[0;36m<module>\u001b[1;34m\u001b[0m\n\u001b[0;32m     17\u001b[0m \u001b[1;32mif\u001b[0m \u001b[0mmissing_dependencies\u001b[0m\u001b[1;33m:\u001b[0m\u001b[1;33m\u001b[0m\u001b[0m\n\u001b[0;32m     18\u001b[0m     raise ImportError(\n\u001b[1;32m---> 19\u001b[1;33m         \"Missing required dependencies {0}\".format(missing_dependencies))\n\u001b[0m\u001b[0;32m     20\u001b[0m \u001b[1;32mdel\u001b[0m \u001b[0mhard_dependencies\u001b[0m\u001b[1;33m,\u001b[0m \u001b[0mdependency\u001b[0m\u001b[1;33m,\u001b[0m \u001b[0mmissing_dependencies\u001b[0m\u001b[1;33m\u001b[0m\u001b[0m\n\u001b[0;32m     21\u001b[0m \u001b[1;33m\u001b[0m\u001b[0m\n",
      "\u001b[1;31mImportError\u001b[0m: Missing required dependencies ['numpy']"
     ]
    }
   ],
   "source": [
    "import pandas as pd\n",
    "git\n",
    "b_cos1d = cb_cos.values.reshape(cb_cos.shape[0]*cb_cos.shape[1])\n",
    "cb_jacc1d = cb_cos.values.reshape(cb_cos.shape[0]*cb_cos.shape[1])\n",
    "cbf_cos1d = cb_cos.values.reshape(cb_cos.shape[0]*cb_cos.shape[1])\n",
    "\n",
    "pd.DataFrame(list(zip(cb_cos1d, cb_jacc1d, cbf_cos1d)))\n"
   ]
  },
  {
   "cell_type": "code",
   "execution_count": 256,
   "metadata": {},
   "outputs": [
    {
     "data": {
      "text/plain": [
       "262"
      ]
     },
     "execution_count": 256,
     "metadata": {},
     "output_type": "execute_result"
    }
   ],
   "source": [
    "def create_master_index(all_matrices):\n",
    "    \n",
    "    all_recipe_ids = [list(li.index) for li in all_matrices]    \n",
    "    union = set().union(*all_recipe_ids)\n",
    "    \n",
    "    return sorted(list(union))\n",
    "\n",
    "all_m = [cb_jaccard, cb_cos, cbf_cos]\n",
    "\n",
    "all_ids = create_master_index(all_m)\n",
    "len(all_ids)"
   ]
  },
  {
   "cell_type": "code",
   "execution_count": 243,
   "metadata": {},
   "outputs": [],
   "source": [
    "blank_matrix = np.where(np.zeros((len(all_ids),len(all_ids)))==0, np.nan, np.nan)\n",
    "\n",
    "all_recipes_cb = pd.DataFrame(blank_matrix.copy(), index=all_ids, columns=all_ids)\n",
    "all_recipes_cb.loc[cb_cos.index,cb_cos.columns] = cb_jaccard.copy()\n",
    "\n",
    "all_recipes_cbf = pd.DataFrame(blank_matrix.copy(), index=all_ids, columns=all_ids)\n",
    "all_recipes_cbf.loc[cbf_cos.index,cbf_cos.columns] = cbf_cos.copy()"
   ]
  },
  {
   "cell_type": "code",
   "execution_count": 244,
   "metadata": {},
   "outputs": [
    {
     "data": {
      "text/plain": [
       "array([[100,   4,   9],\n",
       "       [ 18,  18,  18]])"
      ]
     },
     "execution_count": 244,
     "metadata": {},
     "output_type": "execute_result"
    }
   ],
   "source": [
    "a = np.array([[10,2,3],\n",
    "             [3, 3, 3]])\n",
    "\n",
    "b = np.array([[10,2,3],\n",
    "             [6, 6, 6]])\n",
    "\n",
    "a*b"
   ]
  },
  {
   "cell_type": "code",
   "execution_count": 245,
   "metadata": {},
   "outputs": [],
   "source": [
    "alpha = 0.9\n",
    "\n",
    "cbf_mask = all_recipes_cbf.isnull().replace(to_replace={True:0.0, False:alpha})\n",
    "cbf_weighted = (cbf_mask*all_recipes_cbf).fillna(0)\n",
    "\n",
    "cb_mask = all_recipes_cb.isnull().replace(to_replace={True:0.0, False:1.0-alpha})\n",
    "cb_weighted = (cb_mask*all_recipes_cb).fillna(0)"
   ]
  },
  {
   "cell_type": "code",
   "execution_count": 246,
   "metadata": {},
   "outputs": [],
   "source": [
    "hybrid_sim = cb_weighted+cbf_weighted\n",
    "id = 57\n",
    "top4 = hybrid_sim.loc[id].sort_values(ascending=False)[0:5]\n",
    "top4.name = 'similarity_score'"
   ]
  },
  {
   "cell_type": "code",
   "execution_count": 247,
   "metadata": {},
   "outputs": [],
   "source": [
    "df = pd.read_csv('recipe_similarities/data/clean_data/recipes_info.csv')"
   ]
  },
  {
   "cell_type": "code",
   "execution_count": 248,
   "metadata": {},
   "outputs": [],
   "source": [
    "df.index=df['recipe_id']"
   ]
  },
  {
   "cell_type": "code",
   "execution_count": 249,
   "metadata": {},
   "outputs": [
    {
     "data": {
      "text/html": [
       "<div>\n",
       "<style scoped>\n",
       "    .dataframe tbody tr th:only-of-type {\n",
       "        vertical-align: middle;\n",
       "    }\n",
       "\n",
       "    .dataframe tbody tr th {\n",
       "        vertical-align: top;\n",
       "    }\n",
       "\n",
       "    .dataframe thead th {\n",
       "        text-align: right;\n",
       "    }\n",
       "</style>\n",
       "<table border=\"1\" class=\"dataframe\">\n",
       "  <thead>\n",
       "    <tr style=\"text-align: right;\">\n",
       "      <th></th>\n",
       "      <th>57</th>\n",
       "      <th>58</th>\n",
       "      <th>553</th>\n",
       "      <th>498</th>\n",
       "      <th>89</th>\n",
       "    </tr>\n",
       "  </thead>\n",
       "  <tbody>\n",
       "    <tr>\n",
       "      <th>recipe_id</th>\n",
       "      <td>57</td>\n",
       "      <td>58</td>\n",
       "      <td>553</td>\n",
       "      <td>498</td>\n",
       "      <td>89</td>\n",
       "    </tr>\n",
       "    <tr>\n",
       "      <th>country</th>\n",
       "      <td>japan</td>\n",
       "      <td>japan</td>\n",
       "      <td>japan</td>\n",
       "      <td>united kingdom</td>\n",
       "      <td>thailand</td>\n",
       "    </tr>\n",
       "    <tr>\n",
       "      <th>country_secondary</th>\n",
       "      <td>japan</td>\n",
       "      <td>japan</td>\n",
       "      <td>japan</td>\n",
       "      <td>united kingdom</td>\n",
       "      <td>thailand</td>\n",
       "    </tr>\n",
       "    <tr>\n",
       "      <th>dish_category</th>\n",
       "      <td>soups</td>\n",
       "      <td>soups</td>\n",
       "      <td>stove top / bowl food</td>\n",
       "      <td>stove top / bowl food</td>\n",
       "      <td>stove top / bowl food</td>\n",
       "    </tr>\n",
       "    <tr>\n",
       "      <th>dish_type</th>\n",
       "      <td>ramen</td>\n",
       "      <td>ramen</td>\n",
       "      <td>stir fry</td>\n",
       "      <td>stir fry</td>\n",
       "      <td>stir fry</td>\n",
       "    </tr>\n",
       "    <tr>\n",
       "      <th>diet_type</th>\n",
       "      <td>meat</td>\n",
       "      <td>vegan</td>\n",
       "      <td>meat</td>\n",
       "      <td>meat</td>\n",
       "      <td>meat</td>\n",
       "    </tr>\n",
       "    <tr>\n",
       "      <th>carbohydrate_base</th>\n",
       "      <td>wholewheat noodle nests</td>\n",
       "      <td>wholewheat noodle nests</td>\n",
       "      <td>wholewheat noodle nests</td>\n",
       "      <td>thai rice noodles</td>\n",
       "      <td>thai rice noodles</td>\n",
       "    </tr>\n",
       "    <tr>\n",
       "      <th>carbohydrate_category</th>\n",
       "      <td>noodles</td>\n",
       "      <td>noodles</td>\n",
       "      <td>noodles</td>\n",
       "      <td>noodles</td>\n",
       "      <td>noodles</td>\n",
       "    </tr>\n",
       "    <tr>\n",
       "      <th>protein</th>\n",
       "      <td>chicken</td>\n",
       "      <td>tofu</td>\n",
       "      <td>chicken</td>\n",
       "      <td>pork</td>\n",
       "      <td>chicken</td>\n",
       "    </tr>\n",
       "    <tr>\n",
       "      <th>protein_cut</th>\n",
       "      <td>skin off thigh chicken</td>\n",
       "      <td>NaN</td>\n",
       "      <td>breast chicken</td>\n",
       "      <td>steak pork</td>\n",
       "      <td>breast chicken</td>\n",
       "    </tr>\n",
       "    <tr>\n",
       "      <th>protein_type</th>\n",
       "      <td>poultry &amp; meat</td>\n",
       "      <td>vegetarian</td>\n",
       "      <td>poultry &amp; meat</td>\n",
       "      <td>poultry &amp; meat</td>\n",
       "      <td>poultry &amp; meat</td>\n",
       "    </tr>\n",
       "    <tr>\n",
       "      <th>family_friendly</th>\n",
       "      <td>yes</td>\n",
       "      <td>no</td>\n",
       "      <td>no</td>\n",
       "      <td>no</td>\n",
       "      <td>yes</td>\n",
       "    </tr>\n",
       "    <tr>\n",
       "      <th>spice_level</th>\n",
       "      <td>no spice</td>\n",
       "      <td>no spice</td>\n",
       "      <td>no spice</td>\n",
       "      <td>mild</td>\n",
       "      <td>mild</td>\n",
       "    </tr>\n",
       "    <tr>\n",
       "      <th>prep_time</th>\n",
       "      <td>35</td>\n",
       "      <td>30</td>\n",
       "      <td>30</td>\n",
       "      <td>30</td>\n",
       "      <td>35</td>\n",
       "    </tr>\n",
       "    <tr>\n",
       "      <th>similarity_score</th>\n",
       "      <td>1</td>\n",
       "      <td>0.847213</td>\n",
       "      <td>0.842157</td>\n",
       "      <td>0.824768</td>\n",
       "      <td>0.824356</td>\n",
       "    </tr>\n",
       "  </tbody>\n",
       "</table>\n",
       "</div>"
      ],
      "text/plain": [
       "                                           57                       58   \\\n",
       "recipe_id                                   57                       58   \n",
       "country                                  japan                    japan   \n",
       "country_secondary                        japan                    japan   \n",
       "dish_category                            soups                    soups   \n",
       "dish_type                                ramen                    ramen   \n",
       "diet_type                                 meat                    vegan   \n",
       "carbohydrate_base      wholewheat noodle nests  wholewheat noodle nests   \n",
       "carbohydrate_category                  noodles                  noodles   \n",
       "protein                                chicken                     tofu   \n",
       "protein_cut             skin off thigh chicken                      NaN   \n",
       "protein_type                    poultry & meat               vegetarian   \n",
       "family_friendly                            yes                       no   \n",
       "spice_level                           no spice                 no spice   \n",
       "prep_time                                   35                       30   \n",
       "similarity_score                             1                 0.847213   \n",
       "\n",
       "                                           553                    498  \\\n",
       "recipe_id                                  553                    498   \n",
       "country                                  japan         united kingdom   \n",
       "country_secondary                        japan         united kingdom   \n",
       "dish_category            stove top / bowl food  stove top / bowl food   \n",
       "dish_type                             stir fry               stir fry   \n",
       "diet_type                                 meat                   meat   \n",
       "carbohydrate_base      wholewheat noodle nests      thai rice noodles   \n",
       "carbohydrate_category                  noodles                noodles   \n",
       "protein                                chicken                   pork   \n",
       "protein_cut                     breast chicken             steak pork   \n",
       "protein_type                    poultry & meat         poultry & meat   \n",
       "family_friendly                             no                     no   \n",
       "spice_level                           no spice                   mild   \n",
       "prep_time                                   30                     30   \n",
       "similarity_score                      0.842157               0.824768   \n",
       "\n",
       "                                         89   \n",
       "recipe_id                                 89  \n",
       "country                             thailand  \n",
       "country_secondary                   thailand  \n",
       "dish_category          stove top / bowl food  \n",
       "dish_type                           stir fry  \n",
       "diet_type                               meat  \n",
       "carbohydrate_base          thai rice noodles  \n",
       "carbohydrate_category                noodles  \n",
       "protein                              chicken  \n",
       "protein_cut                   breast chicken  \n",
       "protein_type                  poultry & meat  \n",
       "family_friendly                          yes  \n",
       "spice_level                             mild  \n",
       "prep_time                                 35  \n",
       "similarity_score                    0.824356  "
      ]
     },
     "execution_count": 249,
     "metadata": {},
     "output_type": "execute_result"
    }
   ],
   "source": [
    "top4_df = df.loc[top4.index].copy()\n",
    "top4_df = top4_df.merge(top4, left_index=True, right_index=True, how='left')\n",
    "top4_df.T"
   ]
  },
  {
   "cell_type": "code",
   "execution_count": null,
   "metadata": {},
   "outputs": [],
   "source": []
  }
 ],
 "metadata": {
  "kernelspec": {
   "display_name": "Python [default]",
   "language": "python",
   "name": "python3"
  },
  "language_info": {
   "codemirror_mode": {
    "name": "ipython",
    "version": 3
   },
   "file_extension": ".py",
   "mimetype": "text/x-python",
   "name": "python",
   "nbconvert_exporter": "python",
   "pygments_lexer": "ipython3",
   "version": "3.5.6"
  }
 },
 "nbformat": 4,
 "nbformat_minor": 4
}
