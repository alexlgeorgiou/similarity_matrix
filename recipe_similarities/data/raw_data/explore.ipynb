{
 "cells": [
  {
   "cell_type": "code",
   "execution_count": 14,
   "metadata": {},
   "outputs": [],
   "source": [
    "import pandas as pd\n",
    "import numpy as np"
   ]
  },
  {
   "cell_type": "code",
   "execution_count": 4,
   "metadata": {},
   "outputs": [],
   "source": [
    "df = pd.read_csv('recipes_info.csv')"
   ]
  },
  {
   "cell_type": "code",
   "execution_count": 6,
   "metadata": {},
   "outputs": [
    {
     "data": {
      "text/html": [
       "<div>\n",
       "<style scoped>\n",
       "    .dataframe tbody tr th:only-of-type {\n",
       "        vertical-align: middle;\n",
       "    }\n",
       "\n",
       "    .dataframe tbody tr th {\n",
       "        vertical-align: top;\n",
       "    }\n",
       "\n",
       "    .dataframe thead th {\n",
       "        text-align: right;\n",
       "    }\n",
       "</style>\n",
       "<table border=\"1\" class=\"dataframe\">\n",
       "  <thead>\n",
       "    <tr style=\"text-align: right;\">\n",
       "      <th></th>\n",
       "      <th>recipe_id</th>\n",
       "      <th>country</th>\n",
       "      <th>country_secondary</th>\n",
       "      <th>dish_category</th>\n",
       "      <th>dish_type</th>\n",
       "      <th>diet_type</th>\n",
       "      <th>carbohydrate_base</th>\n",
       "      <th>carbohydrate_category</th>\n",
       "      <th>protein</th>\n",
       "      <th>protein_cut</th>\n",
       "      <th>protein_type</th>\n",
       "      <th>family_friendly</th>\n",
       "      <th>spice_level</th>\n",
       "      <th>prep_time</th>\n",
       "    </tr>\n",
       "  </thead>\n",
       "  <tbody>\n",
       "    <tr>\n",
       "      <th>0</th>\n",
       "      <td>2</td>\n",
       "      <td>India</td>\n",
       "      <td>India</td>\n",
       "      <td>Stove top / bowl food</td>\n",
       "      <td>Curry</td>\n",
       "      <td>Fish</td>\n",
       "      <td>Basmati</td>\n",
       "      <td>Rice</td>\n",
       "      <td>Shellfish</td>\n",
       "      <td>Prawns</td>\n",
       "      <td>Fish &amp; Seafood</td>\n",
       "      <td>No</td>\n",
       "      <td>No Spice</td>\n",
       "      <td>25</td>\n",
       "    </tr>\n",
       "    <tr>\n",
       "      <th>1</th>\n",
       "      <td>5</td>\n",
       "      <td>Italy</td>\n",
       "      <td>Italy</td>\n",
       "      <td>Protein&amp;Veg</td>\n",
       "      <td>Meat &amp; Side veg</td>\n",
       "      <td>Meat</td>\n",
       "      <td>white potatoes</td>\n",
       "      <td>Potato</td>\n",
       "      <td>Beans</td>\n",
       "      <td>Butter beans</td>\n",
       "      <td>Pulses</td>\n",
       "      <td>No</td>\n",
       "      <td>Mild</td>\n",
       "      <td>35</td>\n",
       "    </tr>\n",
       "    <tr>\n",
       "      <th>2</th>\n",
       "      <td>9</td>\n",
       "      <td>Thailand</td>\n",
       "      <td>Thailand</td>\n",
       "      <td>Stove top / bowl food</td>\n",
       "      <td>Curry</td>\n",
       "      <td>Vegan</td>\n",
       "      <td>Basmati</td>\n",
       "      <td>Rice</td>\n",
       "      <td>Tofu</td>\n",
       "      <td>Protein not found</td>\n",
       "      <td>Vegetarian</td>\n",
       "      <td>No</td>\n",
       "      <td>Spicy</td>\n",
       "      <td>25</td>\n",
       "    </tr>\n",
       "    <tr>\n",
       "      <th>3</th>\n",
       "      <td>16</td>\n",
       "      <td>Great Britain</td>\n",
       "      <td>Great Britain</td>\n",
       "      <td>Protein&amp;Veg</td>\n",
       "      <td>Fish &amp; side veg</td>\n",
       "      <td>Fish</td>\n",
       "      <td>Carb not found</td>\n",
       "      <td>NaN</td>\n",
       "      <td>Oily Fish</td>\n",
       "      <td>Trout</td>\n",
       "      <td>Fish &amp; Seafood</td>\n",
       "      <td>No</td>\n",
       "      <td>No Spice</td>\n",
       "      <td>20</td>\n",
       "    </tr>\n",
       "    <tr>\n",
       "      <th>4</th>\n",
       "      <td>19</td>\n",
       "      <td>Tunisia</td>\n",
       "      <td>Tunisia</td>\n",
       "      <td>Protein&amp;Veg</td>\n",
       "      <td>Egg dish</td>\n",
       "      <td>Vegetarian</td>\n",
       "      <td>Millet</td>\n",
       "      <td>Grains</td>\n",
       "      <td>Eggs</td>\n",
       "      <td>Eggs</td>\n",
       "      <td>Dairy &amp; Eggs</td>\n",
       "      <td>No</td>\n",
       "      <td>No Spice</td>\n",
       "      <td>30</td>\n",
       "    </tr>\n",
       "    <tr>\n",
       "      <th>5</th>\n",
       "      <td>20</td>\n",
       "      <td>Tunisia</td>\n",
       "      <td>Tunisia</td>\n",
       "      <td>Protein&amp;Veg</td>\n",
       "      <td>Cheese &amp; Side veg</td>\n",
       "      <td>Vegetarian</td>\n",
       "      <td>Cous cous</td>\n",
       "      <td>Grains</td>\n",
       "      <td>Cheese</td>\n",
       "      <td>Feta</td>\n",
       "      <td>Dairy &amp; Eggs</td>\n",
       "      <td>No</td>\n",
       "      <td>No Spice</td>\n",
       "      <td>40</td>\n",
       "    </tr>\n",
       "    <tr>\n",
       "      <th>6</th>\n",
       "      <td>30</td>\n",
       "      <td>Italy</td>\n",
       "      <td>Italy</td>\n",
       "      <td>Stove top / bowl food</td>\n",
       "      <td>Pasta</td>\n",
       "      <td>Vegetarian</td>\n",
       "      <td>White pasta</td>\n",
       "      <td>Pasta</td>\n",
       "      <td>Cheese</td>\n",
       "      <td>Cheddar</td>\n",
       "      <td>Dairy &amp; Eggs</td>\n",
       "      <td>No</td>\n",
       "      <td>No Spice</td>\n",
       "      <td>40</td>\n",
       "    </tr>\n",
       "    <tr>\n",
       "      <th>7</th>\n",
       "      <td>53</td>\n",
       "      <td>Lebanon</td>\n",
       "      <td>Lebanon</td>\n",
       "      <td>Salads</td>\n",
       "      <td>Tabbouleh</td>\n",
       "      <td>Vegetarian</td>\n",
       "      <td>Bulgur wheat</td>\n",
       "      <td>Grains</td>\n",
       "      <td>Cheese</td>\n",
       "      <td>Halloumi</td>\n",
       "      <td>Dairy &amp; Eggs</td>\n",
       "      <td>no</td>\n",
       "      <td>No Spice</td>\n",
       "      <td>30</td>\n",
       "    </tr>\n",
       "    <tr>\n",
       "      <th>8</th>\n",
       "      <td>54</td>\n",
       "      <td>Italy</td>\n",
       "      <td>Italy</td>\n",
       "      <td>Stove top / bowl food</td>\n",
       "      <td>Risotto</td>\n",
       "      <td>Vegetarian</td>\n",
       "      <td>Risotto rice</td>\n",
       "      <td>Rice</td>\n",
       "      <td>NaN</td>\n",
       "      <td>NaN</td>\n",
       "      <td>NaN</td>\n",
       "      <td>No</td>\n",
       "      <td>No Spice</td>\n",
       "      <td>35-40</td>\n",
       "    </tr>\n",
       "    <tr>\n",
       "      <th>9</th>\n",
       "      <td>57</td>\n",
       "      <td>Japan</td>\n",
       "      <td>Japan</td>\n",
       "      <td>Soups</td>\n",
       "      <td>Ramen</td>\n",
       "      <td>Meat</td>\n",
       "      <td>Wholewheat noodle nests</td>\n",
       "      <td>Noodles</td>\n",
       "      <td>Chicken</td>\n",
       "      <td>Skin off Thigh Chicken</td>\n",
       "      <td>Poultry &amp; Meat</td>\n",
       "      <td>Yes</td>\n",
       "      <td>No Spice</td>\n",
       "      <td>35</td>\n",
       "    </tr>\n",
       "  </tbody>\n",
       "</table>\n",
       "</div>"
      ],
      "text/plain": [
       "   recipe_id        country country_secondary          dish_category  \\\n",
       "0          2          India             India  Stove top / bowl food   \n",
       "1          5          Italy             Italy            Protein&Veg   \n",
       "2          9       Thailand          Thailand  Stove top / bowl food   \n",
       "3         16  Great Britain     Great Britain            Protein&Veg   \n",
       "4         19        Tunisia           Tunisia            Protein&Veg   \n",
       "5         20        Tunisia           Tunisia            Protein&Veg   \n",
       "6         30          Italy             Italy  Stove top / bowl food   \n",
       "7         53        Lebanon           Lebanon                 Salads   \n",
       "8         54          Italy             Italy  Stove top / bowl food   \n",
       "9         57          Japan             Japan                  Soups   \n",
       "\n",
       "           dish_type   diet_type        carbohydrate_base  \\\n",
       "0              Curry        Fish                  Basmati   \n",
       "1    Meat & Side veg        Meat           white potatoes   \n",
       "2              Curry       Vegan                  Basmati   \n",
       "3    Fish & side veg        Fish           Carb not found   \n",
       "4           Egg dish  Vegetarian                   Millet   \n",
       "5  Cheese & Side veg  Vegetarian                Cous cous   \n",
       "6              Pasta  Vegetarian              White pasta   \n",
       "7          Tabbouleh  Vegetarian             Bulgur wheat   \n",
       "8            Risotto  Vegetarian             Risotto rice   \n",
       "9              Ramen        Meat  Wholewheat noodle nests   \n",
       "\n",
       "  carbohydrate_category    protein             protein_cut    protein_type  \\\n",
       "0                  Rice  Shellfish                  Prawns  Fish & Seafood   \n",
       "1                Potato      Beans            Butter beans          Pulses   \n",
       "2                  Rice       Tofu       Protein not found      Vegetarian   \n",
       "3                   NaN  Oily Fish                   Trout  Fish & Seafood   \n",
       "4                Grains       Eggs                    Eggs    Dairy & Eggs   \n",
       "5                Grains     Cheese                    Feta    Dairy & Eggs   \n",
       "6                 Pasta     Cheese                 Cheddar    Dairy & Eggs   \n",
       "7                Grains     Cheese                Halloumi    Dairy & Eggs   \n",
       "8                  Rice        NaN                     NaN             NaN   \n",
       "9               Noodles    Chicken  Skin off Thigh Chicken  Poultry & Meat   \n",
       "\n",
       "  family_friendly spice_level prep_time  \n",
       "0              No    No Spice        25  \n",
       "1              No        Mild        35  \n",
       "2              No       Spicy        25  \n",
       "3              No    No Spice        20  \n",
       "4              No    No Spice        30  \n",
       "5              No    No Spice        40  \n",
       "6              No    No Spice        40  \n",
       "7              no    No Spice        30  \n",
       "8              No    No Spice     35-40  \n",
       "9             Yes    No Spice        35  "
      ]
     },
     "execution_count": 6,
     "metadata": {},
     "output_type": "execute_result"
    }
   ],
   "source": [
    "df.head(10)"
   ]
  },
  {
   "cell_type": "code",
   "execution_count": 1,
   "metadata": {},
   "outputs": [
    {
     "data": {
      "text/plain": [
       "['recipe_a', 'recipe_b', 'score', 'action_ts', 'user_id', 'message_ts']"
      ]
     },
     "execution_count": 1,
     "metadata": {},
     "output_type": "execute_result"
    }
   ],
   "source": [
    "list({'user_id':'int64',\n",
    "                                                      'message_ts':'object', \n",
    "                                                      'action_ts':'object',\n",
    "                                                      'recipe_a':'int64', \n",
    "                                                      'recipe_b':'int64', \n",
    "                                                      'score':'int64'})"
   ]
  },
  {
   "cell_type": "code",
   "execution_count": null,
   "metadata": {},
   "outputs": [],
   "source": [
    "    data_contract = {'similarity_scores':{'file_name':'similarity_scores.csv',\n",
    "                                          'file_format':'csv',\n",
    "                                          'columns': {'user_id':'int64',\n",
    "                                                      'message_ts':'object', \n",
    "                                                      'action_ts':'object',\n",
    "                                                      'recipe_a':'int64', \n",
    "                                                      'recipe_b':'int64', \n",
    "                                                      'score':'int64'},\n",
    "                                          'percent_acceptable_nulls': 0,\n",
    "                                          'min_max':{'score':[1, 4]},\n",
    "                     'similarity_scores':{'file_name':'recipes_info.csv',\n",
    "                                          'file_format':'csv',\n",
    "                                          'columns': {'carbohydrate_base': 'object',\n",
    "                                                      'carbohydrate_category': 'object',\n",
    "                                                      'country': 'object',\n",
    "                                                      'country_secondary': 'object',\n",
    "                                                      'diet_type': 'object',\n",
    "                                                      'dish_category': 'object',\n",
    "                                                      'dish_type': 'object',\n",
    "                                                      'family_friendly': 'object',\n",
    "                                                      'prep_time': 'object',\n",
    "                                                      'protein': 'object',\n",
    "                                                      'protein_cut': 'object',\n",
    "                                                      'protein_type': 'object',\n",
    "                                                      'spice_level': 'object'},\n",
    "                                          'percent_acceptable_nulls': 0.5                    "
   ]
  },
  {
   "cell_type": "code",
   "execution_count": 25,
   "metadata": {},
   "outputs": [],
   "source": [
    "import re\n",
    "\n",
    "if re.match('[0-9]{2}-[0-9]{2}','45-3'):\n",
    "    print('y')"
   ]
  },
  {
   "cell_type": "code",
   "execution_count": 19,
   "metadata": {},
   "outputs": [
    {
     "ename": "AttributeError",
     "evalue": "'DataFrame' object has no attribute 'capitalise'",
     "output_type": "error",
     "traceback": [
      "\u001b[1;31m---------------------------------------------------------------------------\u001b[0m",
      "\u001b[1;31mAttributeError\u001b[0m                            Traceback (most recent call last)",
      "\u001b[1;32m<ipython-input-19-53312d46045e>\u001b[0m in \u001b[0;36m<module>\u001b[1;34m\u001b[0m\n\u001b[1;32m----> 1\u001b[1;33m \u001b[0mdf\u001b[0m\u001b[1;33m.\u001b[0m\u001b[0mcapitalise\u001b[0m\u001b[1;33m(\u001b[0m\u001b[1;33m)\u001b[0m\u001b[1;33m\u001b[0m\u001b[0m\n\u001b[0m",
      "\u001b[1;32mc:\\users\\alex georgiou\\anaconda3\\lib\\site-packages\\pandas\\core\\generic.py\u001b[0m in \u001b[0;36m__getattr__\u001b[1;34m(self, name)\u001b[0m\n\u001b[0;32m   5065\u001b[0m             \u001b[1;32mif\u001b[0m \u001b[0mself\u001b[0m\u001b[1;33m.\u001b[0m\u001b[0m_info_axis\u001b[0m\u001b[1;33m.\u001b[0m\u001b[0m_can_hold_identifiers_and_holds_name\u001b[0m\u001b[1;33m(\u001b[0m\u001b[0mname\u001b[0m\u001b[1;33m)\u001b[0m\u001b[1;33m:\u001b[0m\u001b[1;33m\u001b[0m\u001b[0m\n\u001b[0;32m   5066\u001b[0m                 \u001b[1;32mreturn\u001b[0m \u001b[0mself\u001b[0m\u001b[1;33m[\u001b[0m\u001b[0mname\u001b[0m\u001b[1;33m]\u001b[0m\u001b[1;33m\u001b[0m\u001b[0m\n\u001b[1;32m-> 5067\u001b[1;33m             \u001b[1;32mreturn\u001b[0m \u001b[0mobject\u001b[0m\u001b[1;33m.\u001b[0m\u001b[0m__getattribute__\u001b[0m\u001b[1;33m(\u001b[0m\u001b[0mself\u001b[0m\u001b[1;33m,\u001b[0m \u001b[0mname\u001b[0m\u001b[1;33m)\u001b[0m\u001b[1;33m\u001b[0m\u001b[0m\n\u001b[0m\u001b[0;32m   5068\u001b[0m \u001b[1;33m\u001b[0m\u001b[0m\n\u001b[0;32m   5069\u001b[0m     \u001b[1;32mdef\u001b[0m \u001b[0m__setattr__\u001b[0m\u001b[1;33m(\u001b[0m\u001b[0mself\u001b[0m\u001b[1;33m,\u001b[0m \u001b[0mname\u001b[0m\u001b[1;33m,\u001b[0m \u001b[0mvalue\u001b[0m\u001b[1;33m)\u001b[0m\u001b[1;33m:\u001b[0m\u001b[1;33m\u001b[0m\u001b[0m\n",
      "\u001b[1;31mAttributeError\u001b[0m: 'DataFrame' object has no attribute 'capitalise'"
     ]
    }
   ],
   "source": [
    "df['carbohydrate_base'] = \n"
   ]
  },
  {
   "cell_type": "code",
   "execution_count": 28,
   "metadata": {},
   "outputs": [
    {
     "data": {
      "text/plain": [
       "<module 'pandas.api.types' from 'c:\\\\users\\\\alex georgiou\\\\anaconda3\\\\lib\\\\site-packages\\\\pandas\\\\api\\\\types\\\\__init__.py'>"
      ]
     },
     "execution_count": 28,
     "metadata": {},
     "output_type": "execute_result"
    }
   ],
   "source": [
    "pd.api.types"
   ]
  },
  {
   "cell_type": "code",
   "execution_count": 55,
   "metadata": {},
   "outputs": [
    {
     "data": {
      "text/plain": [
       "No Spice    177\n",
       "Spicy        43\n",
       "Mild         40\n",
       "Name: spice_level, dtype: int64"
      ]
     },
     "execution_count": 55,
     "metadata": {},
     "output_type": "execute_result"
    }
   ],
   "source": [
    "df['spice_level'].value_counts()"
   ]
  },
  {
   "cell_type": "code",
   "execution_count": null,
   "metadata": {},
   "outputs": [],
   "source": [
    "data transformation steps\n",
    "capitalisation standardisation\n",
    "carb = Carb not found == npn.nana\n",
    "country, country_secondary Great Britain -> United Kingdom, Korea,\n",
    "                            Republic of (South Korea) -> South Korea,\n",
    "                            Israel and the Occupied Territories -> Israel\n",
    "        \n",
    "takemax time from string withing 'prep_time'"
   ]
  },
  {
   "cell_type": "code",
   "execution_count": 33,
   "metadata": {},
   "outputs": [
    {
     "data": {
      "text/html": [
       "<div>\n",
       "<style scoped>\n",
       "    .dataframe tbody tr th:only-of-type {\n",
       "        vertical-align: middle;\n",
       "    }\n",
       "\n",
       "    .dataframe tbody tr th {\n",
       "        vertical-align: top;\n",
       "    }\n",
       "\n",
       "    .dataframe thead th {\n",
       "        text-align: right;\n",
       "    }\n",
       "</style>\n",
       "<table border=\"1\" class=\"dataframe\">\n",
       "  <thead>\n",
       "    <tr style=\"text-align: right;\">\n",
       "      <th></th>\n",
       "      <th>recipe_id</th>\n",
       "    </tr>\n",
       "  </thead>\n",
       "  <tbody>\n",
       "    <tr>\n",
       "      <th>count</th>\n",
       "      <td>260.000000</td>\n",
       "    </tr>\n",
       "    <tr>\n",
       "      <th>mean</th>\n",
       "      <td>622.711538</td>\n",
       "    </tr>\n",
       "    <tr>\n",
       "      <th>std</th>\n",
       "      <td>384.708531</td>\n",
       "    </tr>\n",
       "    <tr>\n",
       "      <th>min</th>\n",
       "      <td>2.000000</td>\n",
       "    </tr>\n",
       "    <tr>\n",
       "      <th>25%</th>\n",
       "      <td>336.250000</td>\n",
       "    </tr>\n",
       "    <tr>\n",
       "      <th>50%</th>\n",
       "      <td>479.500000</td>\n",
       "    </tr>\n",
       "    <tr>\n",
       "      <th>75%</th>\n",
       "      <td>972.000000</td>\n",
       "    </tr>\n",
       "    <tr>\n",
       "      <th>max</th>\n",
       "      <td>1284.000000</td>\n",
       "    </tr>\n",
       "  </tbody>\n",
       "</table>\n",
       "</div>"
      ],
      "text/plain": [
       "         recipe_id\n",
       "count   260.000000\n",
       "mean    622.711538\n",
       "std     384.708531\n",
       "min       2.000000\n",
       "25%     336.250000\n",
       "50%     479.500000\n",
       "75%     972.000000\n",
       "max    1284.000000"
      ]
     },
     "execution_count": 33,
     "metadata": {},
     "output_type": "execute_result"
    }
   ],
   "source": [
    "df.describe()"
   ]
  },
  {
   "cell_type": "code",
   "execution_count": 10,
   "metadata": {},
   "outputs": [
    {
     "data": {
      "text/plain": [
       "0"
      ]
     },
     "execution_count": 10,
     "metadata": {},
     "output_type": "execute_result"
    }
   ],
   "source": [
    "\n",
    "def validate_data\n",
    "df.isnull().sum().sum()\n",
    "pd.types."
   ]
  },
  {
   "cell_type": "code",
   "execution_count": null,
   "metadata": {},
   "outputs": [],
   "source": []
  }
 ],
 "metadata": {
  "kernelspec": {
   "display_name": "Python [default]",
   "language": "python",
   "name": "python3"
  },
  "language_info": {
   "codemirror_mode": {
    "name": "ipython",
    "version": 3
   },
   "file_extension": ".py",
   "mimetype": "text/x-python",
   "name": "python",
   "nbconvert_exporter": "python",
   "pygments_lexer": "ipython3",
   "version": "3.5.6"
  }
 },
 "nbformat": 4,
 "nbformat_minor": 4
}
